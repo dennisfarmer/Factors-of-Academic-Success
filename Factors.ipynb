{
 "cells": [
  {
   "cell_type": "markdown",
   "metadata": {},
   "source": [
    "# Factors of Academic Success: Analysis Project\n",
    "(enter short description here)"
   ]
  },
  {
   "cell_type": "markdown",
   "metadata": {},
   "source": [
    "## Importing libraries and survey spreadsheets"
   ]
  },
  {
   "cell_type": "code",
   "execution_count": 1,
   "metadata": {},
   "outputs": [],
   "source": [
    "import pandas as pd\n",
    "import numpy as np\n",
    "import datetime as dt\n",
    "import matplotlib.pyplot as plt\n",
    "import seaborn as sns\n",
    "%matplotlib inline"
   ]
  },
  {
   "cell_type": "markdown",
   "metadata": {},
   "source": [
    "#### - Read survey spreadsheets"
   ]
  },
  {
   "cell_type": "code",
   "execution_count": 2,
   "metadata": {},
   "outputs": [],
   "source": [
    "filepath = \"C:/Users/Dennis/Documents/Git/Factors of Academic Success/Survey Spreadsheets/\"\n",
    "survey101 = pd.read_excel(filepath + \"Factors of Academic Success Survey (1.01).xlsx\")"
   ]
  },
  {
   "cell_type": "markdown",
   "metadata": {},
   "source": [
    "#### - Merge datasets together"
   ]
  },
  {
   "cell_type": "code",
   "execution_count": 3,
   "metadata": {},
   "outputs": [],
   "source": [
    "#surveydata = pd.merge(left=survey101, right=othersurvey, how=\"left\") or maybe concat, idk lol\n",
    "surveydata = survey101.copy()\n",
    "#surveydata.columns = surveydata.columns.str.lower\n",
    "#map(str.lower, surveydata.columns)\n",
    "surveydata.columns = map(str.lower, surveydata.columns)"
   ]
  },
  {
   "cell_type": "markdown",
   "metadata": {},
   "source": [
    "## Basic data cleaning and transformation"
   ]
  },
  {
   "cell_type": "markdown",
   "metadata": {},
   "source": [
    "#### - Convert list cells to lists"
   ]
  },
  {
   "cell_type": "code",
   "execution_count": 4,
   "metadata": {},
   "outputs": [],
   "source": [
    "for column in ['self_improv', 'activities', 'watched_media', 'chosen_music_artists']:\n",
    "    surveydata[column] = surveydata[column].str.split(\",\")"
   ]
  },
  {
   "cell_type": "markdown",
   "metadata": {},
   "source": [
    "#### - Calculate the average amount of sleep for each person"
   ]
  },
  {
   "cell_type": "code",
   "execution_count": 5,
   "metadata": {},
   "outputs": [],
   "source": [
    "def time_to_datetime(column, dataf=surveydata):\n",
    "    time_day = []\n",
    "    time_time = []\n",
    "    time_dt = []\n",
    "    # Insert Date\n",
    "    for i in range(dataf.shape[0]):\n",
    "        if column == 'up_from_bed' or (column == 'go_to_bed' and dataf[column][i].hour < 5): \n",
    "            time_day.append(\"2000/01/02 \") # Special for timedelta where one column can have more than one possible day\n",
    "        else:\n",
    "            time_day.append(\"2000/01/01 \")\n",
    "        \n",
    "    # Insert Time        \n",
    "    for time in list(dataf[column]):\n",
    "        time_time.append(str(time))\n",
    "    \n",
    "    # Concat date and time and convert to datetime object\n",
    "    for date_time in list(pd.Series(time_day) + pd.Series(time_time)):\n",
    "        time_dt.append(dt.datetime.strptime(date_time, \"%Y/%m/%d %H:%M:%S\"))\n",
    "    \n",
    "    return pd.Series(time_dt)\n",
    "    \n",
    "surveydata.insert(24, 'avg_sleep_hours', time_to_datetime('up_from_bed') - time_to_datetime('go_to_bed'))\n",
    "\n",
    "def clean_avg_sleep(hours_of_sleep):\n",
    "    if hours_of_sleep > 15:\n",
    "        return hours_of_sleep - 12\n",
    "    else:\n",
    "        return hours_of_sleep\n",
    "    \n",
    "surveydata.avg_sleep_hours = surveydata.avg_sleep_hours.apply(lambda x: x.seconds / 3600).apply(clean_avg_sleep)"
   ]
  },
  {
   "cell_type": "markdown",
   "metadata": {},
   "source": [
    "#### - Map all music-related majors to be called \"Music\""
   ]
  },
  {
   "cell_type": "code",
   "execution_count": 6,
   "metadata": {},
   "outputs": [],
   "source": [
    "surveydata.loc[surveydata.major.str.contains(r\"music\", case=False, na=False, regex=True), 'major'] = \"Music\""
   ]
  },
  {
   "cell_type": "markdown",
   "metadata": {},
   "source": [
    "#### - Compare SAT and ACT scores and keep the highest one as a converted SAT score"
   ]
  },
  {
   "cell_type": "code",
   "execution_count": 7,
   "metadata": {},
   "outputs": [],
   "source": [
    "act_sat = {'36':1590, '35':1540, '34':1500, '33':1460, '32':1430, '31':1400, '30':1370, '29':1340, '28':1310, '27':1280, '26':1240, '25':1210, '24':1180, '23':1140, '22':1110, '21':1080, '20':1040, '19':1010, '18':970}\n",
    "def act_to_sat(act):\n",
    "    if np.isnan(act):\n",
    "        return np.NaN\n",
    "    else:\n",
    "        score = str(int(act))\n",
    "        if score in act_sat:\n",
    "            return act_sat[score]\n",
    "        else:\n",
    "            return np.NaN\n",
    "        \n",
    "surveydata.insert(11, 'converted_sat', surveydata.act.apply(act_to_sat))\n",
    "select_rows = (surveydata.sat.fillna(0) > surveydata.converted_sat.fillna(0))\n",
    "surveydata.loc[select_rows, 'converted_sat'] = surveydata.loc[select_rows, 'sat']\n",
    "surveydata.converted_sat = surveydata.converted_sat.astype(int)"
   ]
  },
  {
   "cell_type": "code",
   "execution_count": 20,
   "metadata": {},
   "outputs": [
    {
     "data": {
      "text/plain": [
       "<matplotlib.axes._subplots.AxesSubplot at 0x29d96ed6908>"
      ]
     },
     "execution_count": 20,
     "metadata": {},
     "output_type": "execute_result"
    },
    {
     "data": {
      "image/png": "[encoded data removed]",
      "text/plain": [
       "<Figure size 432x288 with 1 Axes>"
      ]
     },
     "metadata": {
      "needs_background": "light"
     },
     "output_type": "display_data"
    }
   ],
   "source": [
    "pv_scores = surveydata.pivot_table(values='avg_sleep_hours', index='converted_sat', aggfunc=np.mean, margins=True)\n",
    "pv_scores.plot(kind='barh', xlim=(0,15), title='Mean Hours of Sleep by SAT Score', legend=False)"
   ]
  },
  {
   "cell_type": "code",
   "execution_count": 17,
   "metadata": {},
   "outputs": [
    {
     "data": {
      "text/plain": [
       "<function matplotlib.pyplot.show(*args, **kw)>"
      ]
     },
     "execution_count": 17,
     "metadata": {},
     "output_type": "execute_result"
    },
    {
     "data": {
      "image/png": "[encoded data removed]",
      "text/plain": [
       "<Figure size 432x288 with 1 Axes>"
      ]
     },
     "metadata": {
      "needs_background": "light"
     },
     "output_type": "display_data"
    }
   ],
   "source": [
    "sns.distplot(surveydata['age'])\n",
    "plt.show"
   ]
  }
 ],
 "metadata": {
  "kernelspec": {
   "display_name": "Python 3",
   "language": "python",
   "name": "python3"
  },
  "language_info": {
   "codemirror_mode": {
    "name": "ipython",
    "version": 3
   },
   "file_extension": ".py",
   "mimetype": "text/x-python",
   "name": "python",
   "nbconvert_exporter": "python",
   "pygments_lexer": "ipython3",
   "version": "3.7.4"
  }
 },
 "nbformat": 4,
 "nbformat_minor": 2
}
